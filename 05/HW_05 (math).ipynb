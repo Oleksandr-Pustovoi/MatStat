{
 "cells": [
  {
   "cell_type": "markdown",
   "metadata": {},
   "source": [
    "1) Известно, что генеральная совокупность распределена нормально \u000b",
    "со \n",
    "средним квадратическим отклонением, равным 16.\u000b",
    "\n",
    "\n",
    "Найти доверительный интервал для оценки математического ожидания с надежностью 0.95,\u000b",
    "\n",
    "если выборочная средняя M = 80, а объем выборки n = 256."
   ]
  },
  {
   "cell_type": "code",
   "execution_count": 4,
   "metadata": {},
   "outputs": [
    {
     "name": "stdout",
     "output_type": "stream",
     "text": [
      "доверительный интервал для оценки математического ожидания = (78.04, 81.96)\n"
     ]
    }
   ],
   "source": [
    "from scipy.stats import norm\n",
    "\n",
    "sigma = 16\n",
    "mu = 80\n",
    "n = 256\n",
    "# z = norm.sf(1)\n",
    "percent_point = norm.ppf((1+.95)/2)\n",
    "T0 = mu+(sigma/n**.5)*percent_point\n",
    "T1 = mu-(sigma/n**.5)*percent_point\n",
    "print(\n",
    "    f'доверительный интервал для оценки математического ожидания = {round(T1,3), round(T0,3)}')"
   ]
  },
  {
   "cell_type": "code",
   "execution_count": 5,
   "metadata": {},
   "outputs": [
    {
     "data": {
      "text/plain": [
       "1.959963984540054"
      ]
     },
     "execution_count": 5,
     "metadata": {},
     "output_type": "execute_result"
    }
   ],
   "source": [
    "norm.interval(.95)\n",
    "norm.ppf((1+.95)/2)"
   ]
  },
  {
   "cell_type": "markdown",
   "metadata": {},
   "source": [
    "2) В результате 10 независимых измерений некоторой величины X, выполненных с одинаковой точностью,\u000b",
    "получены опытные данные:\u000b",
    "6.9, 6.1, 6.2, 6.8, 7.5, 6.3, 6.4, 6.9, 6.7, 6.1\u000b",
    "\n",
    "\n",
    "Предполагая, что результаты измерений подчинены нормальному закону распределения вероятностей,\u000b",
    "оценить истинное значение величины X при помощи доверительного интервала, покрывающего это\u000b",
    "значение с доверительной вероятностью 0,95.\n"
   ]
  },
  {
   "cell_type": "code",
   "execution_count": 46,
   "metadata": {},
   "outputs": [
    {
     "name": "stdout",
     "output_type": "stream",
     "text": [
      "Доверительный интервал = (6.284, 6.896)\n"
     ]
    }
   ],
   "source": [
    "import numpy as np\n",
    "from scipy.stats import t\n",
    "\n",
    "data = np.array([6.9, 6.1, 6.2, 6.8, 7.5, 6.3, 6.4, 6.9, 6.7, 6.1])\n",
    "n = data.shape[0]  # размер выборки\n",
    "df = n-1  # число степеней свободы\n",
    "alpha = 1-.95\n",
    "t_criteria = t.ppf(alpha/2, df)  # Т-критерий для заданной альфы\n",
    "\n",
    "mu = data.sum()/n  # среднее арифметическое\n",
    "sigma = np.sqrt(((data-mu)**2).sum()/n)  # стандартное отклонение \n",
    "STD_error = sigma/(n**.5)  # стандартная ошибка\n",
    "\n",
    "T0 = mu+STD_error*t_criteria\n",
    "T1 = mu-STD_error*t_criteria\n",
    "print(\n",
    "    f'Доверительный интервал = {round(T0,3), round(T1,3)}')"
   ]
  },
  {
   "cell_type": "markdown",
   "metadata": {},
   "source": [
    "3,4 задачи решать через тестирование гипотезы\n"
   ]
  },
  {
   "cell_type": "markdown",
   "metadata": {},
   "source": [
    "\u000b",
    "3.) Утверждается, что шарики для подшипников, изготовленные автоматическим станком, имеют средний диаметр 17 мм.\u000b",
    "Используя односторонний критерий с α=0,05, проверить эту гипотезу, если в выборке из n=100 шариков средний диаметр\u000b",
    "оказался равным 17.5 мм, а дисперсия известна и равна 4 кв.мм.\n"
   ]
  },
  {
   "cell_type": "code",
   "execution_count": 54,
   "metadata": {},
   "outputs": [
    {
     "name": "stdout",
     "output_type": "stream",
     "text": [
      "Z_H1 =  2.5\n",
      "Z =  1.6448536269514729\n",
      "так как Z наблюдаемое больше чем граничное Z для гипотезы 0, то гипотеза 0 - НЕ верна\n"
     ]
    }
   ],
   "source": [
    "# гипотеза 0 H0 = средний диаметр 17 мм.\n",
    "# гипотеза 1 H1 = средний диаметр 17.5 мм.\n",
    "mu_0 = 17\n",
    "mu_1 = 17.5\n",
    "alpha = .05\n",
    "n = 100  # размер выборки \n",
    "sigma = 4**.5\n",
    "\n",
    "sigma_H1 = sigma/n**.5\n",
    "Z_H1=(mu_1 - mu_0)/sigma_H1\n",
    "print('Z_H1 = ',Z_H1)\n",
    "\n",
    "Z = abs(norm.ppf(alpha))\n",
    "print('Z = ',Z)\n",
    "\n",
    "print('так как Z наблюдаемое больше чем граничное Z для гипотезы 0, то гипотеза 0 - НЕ верна')"
   ]
  },
  {
   "cell_type": "markdown",
   "metadata": {},
   "source": [
    "\n",
    "4) Продавец утверждает, что средний вес пачки печенья составляет 200 г. Из партии извлечена выборка из 10 пачек.\n",
    "Вес каждой пачки составляет:\n",
    "202, 203, 199, 197, 195, 201, 200, 204, 194, 190. Известно,что их веса распределены нормально.\n",
    "Верно ли утверждение продавца, если учитывать, что доверительная вероятность равна 99%?"
   ]
  },
  {
   "cell_type": "code",
   "execution_count": 60,
   "metadata": {},
   "outputs": [
    {
     "name": "stdout",
     "output_type": "stream",
     "text": [
      "mu_0=  200\n",
      "mu_1=  198.5\n",
      "df=  9\n",
      "T =  3.2498355440153697\n",
      "sigma =  4.224926034855522\n",
      "T_H =  1.1227217828476797\n",
      "так как Th (гипотезы 1) меньше чем T (гипотезы 0), то гипотеза 0 - верна\n"
     ]
    }
   ],
   "source": [
    "# H0 = средний вес пачки печенья составляет 200 г.\n",
    "mu_0 = 200\n",
    "data = np.array([202, 203, 199, 197, 195, 201, 200, 204, 194, 190])\n",
    "n = data.shape[0]  # размер выборки\n",
    "mu_1 = data.sum()/n  # среднее арифметическое\n",
    "print('mu_0= ', mu_0)\n",
    "print('mu_1= ', mu_1)\n",
    "print('df= ', df)\n",
    "df = n-1  # число степеней свободы\n",
    "p = .99\n",
    "alpha = 1-p\n",
    "\n",
    "T = abs(t.ppf(alpha/2, df))  # Т-критерий (Стьюдента) для заданной альфы\n",
    "print('T = ', T)\n",
    "\n",
    "# стандартное НЕ смещенное отклонение  == data.std()\n",
    "sigma = np.sqrt(((data-mu_1)**2).sum()/n)\n",
    "print('sigma = ', sigma)\n",
    "\n",
    "T_H = abs((mu_1 - mu_0)/(sigma/n**.5))\n",
    "print('T_H = ', T_H)\n",
    "print('так как T  наблюдаемое меньше чем T гипотезы 0, то гипотеза 0 - верна')"
   ]
  },
  {
   "cell_type": "code",
   "execution_count": null,
   "metadata": {},
   "outputs": [],
   "source": []
  },
  {
   "cell_type": "code",
   "execution_count": null,
   "metadata": {},
   "outputs": [],
   "source": []
  },
  {
   "cell_type": "code",
   "execution_count": null,
   "metadata": {},
   "outputs": [],
   "source": []
  },
  {
   "cell_type": "code",
   "execution_count": null,
   "metadata": {},
   "outputs": [],
   "source": []
  },
  {
   "cell_type": "code",
   "execution_count": null,
   "metadata": {},
   "outputs": [],
   "source": []
  },
  {
   "cell_type": "code",
   "execution_count": null,
   "metadata": {},
   "outputs": [],
   "source": []
  },
  {
   "cell_type": "code",
   "execution_count": null,
   "metadata": {},
   "outputs": [],
   "source": []
  },
  {
   "cell_type": "code",
   "execution_count": null,
   "metadata": {},
   "outputs": [],
   "source": []
  },
  {
   "cell_type": "code",
   "execution_count": null,
   "metadata": {},
   "outputs": [],
   "source": []
  },
  {
   "cell_type": "code",
   "execution_count": null,
   "metadata": {},
   "outputs": [],
   "source": []
  },
  {
   "cell_type": "code",
   "execution_count": null,
   "metadata": {},
   "outputs": [],
   "source": []
  },
  {
   "cell_type": "code",
   "execution_count": null,
   "metadata": {},
   "outputs": [],
   "source": []
  },
  {
   "cell_type": "code",
   "execution_count": null,
   "metadata": {},
   "outputs": [],
   "source": []
  },
  {
   "cell_type": "code",
   "execution_count": null,
   "metadata": {},
   "outputs": [],
   "source": []
  },
  {
   "cell_type": "code",
   "execution_count": null,
   "metadata": {},
   "outputs": [],
   "source": []
  }
 ],
 "metadata": {
  "kernelspec": {
   "display_name": "Python 3",
   "language": "python",
   "name": "python3"
  },
  "language_info": {
   "codemirror_mode": {
    "name": "ipython",
    "version": 3
   },
   "file_extension": ".py",
   "mimetype": "text/x-python",
   "name": "python",
   "nbconvert_exporter": "python",
   "pygments_lexer": "ipython3",
   "version": "3.7.6"
  }
 },
 "nbformat": 4,
 "nbformat_minor": 4
}

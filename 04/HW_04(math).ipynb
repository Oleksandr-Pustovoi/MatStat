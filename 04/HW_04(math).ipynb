{
 "cells": [
  {
   "cell_type": "markdown",
   "metadata": {},
   "source": [
    "1 Случайная непрерывная величина A имеет равномерное распределение на промежутке (200, 800].\n",
    "Найдите ее среднее значение и дисперсию."
   ]
  },
  {
   "cell_type": "code",
   "execution_count": 1,
   "metadata": {},
   "outputs": [
    {
     "data": {
      "text/plain": [
       "500.0"
      ]
     },
     "execution_count": 1,
     "metadata": {},
     "output_type": "execute_result"
    }
   ],
   "source": [
    "a=200\n",
    "b=800\n",
    "# среднее значение\n",
    "Mx = (a+b)/2\n",
    "Mx"
   ]
  },
  {
   "cell_type": "code",
   "execution_count": 2,
   "metadata": {},
   "outputs": [
    {
     "data": {
      "text/plain": [
       "30000.0"
      ]
     },
     "execution_count": 2,
     "metadata": {},
     "output_type": "execute_result"
    }
   ],
   "source": [
    "Dx = (b-a)**2/12\n",
    "Dx"
   ]
  },
  {
   "cell_type": "markdown",
   "metadata": {},
   "source": [
    "2 О случайной непрерывной равномерно распределенной величине B известно, что ее дисперсия равна 0.2.\n",
    "Можно ли найти правую границу величины B и ее среднее значение зная, что левая граница равна 0.5?\n",
    "Если да, найдите ее."
   ]
  },
  {
   "cell_type": "code",
   "execution_count": 3,
   "metadata": {},
   "outputs": [
    {
     "data": {
      "text/plain": [
       "2.049193338482967"
      ]
     },
     "execution_count": 3,
     "metadata": {},
     "output_type": "execute_result"
    }
   ],
   "source": [
    "Dx = .2\n",
    "a = .5\n",
    "\n",
    "#  правую границу величины B\n",
    "# Dx = (b-a)**2/12 --> b = (Dx**.5+a/12**.5)*12**.5\n",
    "b = (Dx**.5+a/12**.5)*12**.5\n",
    "b"
   ]
  },
  {
   "cell_type": "code",
   "execution_count": 4,
   "metadata": {},
   "outputs": [
    {
     "data": {
      "text/plain": [
       "1.2745966692414834"
      ]
     },
     "execution_count": 4,
     "metadata": {},
     "output_type": "execute_result"
    }
   ],
   "source": [
    "#  среднее значение \n",
    "Mx = (a+b)/2\n",
    "Mx"
   ]
  },
  {
   "cell_type": "markdown",
   "metadata": {},
   "source": [
    "3 Непрерывная случайная величина X распределена нормально и задана плотностью распределения\n",
    "f(x) = (1 / (4 * sqrt(2*pi))) * (exp(-((x+2)**2) / 32))\n",
    "\n",
    "Найдите:\n",
    "\n",
    "а). M(X)\n",
    "\n",
    "б). D(X)\n",
    "\n",
    "в). std(X) (среднее квадратичное отклонение)"
   ]
  },
  {
   "cell_type": "markdown",
   "metadata": {},
   "source": [
    "M(X) = - 2\n",
    "\n",
    "D(X) = (32/2) = 16\n",
    "\n",
    "std(X) = (32/2)**.5 = 4"
   ]
  },
  {
   "cell_type": "markdown",
   "metadata": {},
   "source": [
    "4 Рост взрослого населения города X имеет нормальное распределение.\n",
    "Причем, средний рост равен 174 см, а среднее квадратичное отклонение равно 8 см.\n",
    "Какова вероятность того, что случайным образом выбранный взрослый человек имеет рост:\n",
    "а). больше 182 см\n",
    "б). больше 190 см\n",
    "в). от 166 см до 190 см\n",
    "г). от 166 см до 182 см\n",
    "д). от 158 см до 190 см\n",
    "е). не выше 150 см или не ниже 190 см\n",
    "ё). не выше 150 см или не ниже 198 см\n",
    "ж). ниже 166 см."
   ]
  },
  {
   "cell_type": "code",
   "execution_count": 6,
   "metadata": {},
   "outputs": [
    {
     "name": "stdout",
     "output_type": "stream",
     "text": [
      "а). больше 182 см  0.15865525393145707  sigma =  1.0\n",
      "б). больше 190 см:  0.02275013194817921  sigma =  2.0\n",
      "в). от 166 см до 190 см:  0.8185946141203637  sigma X =  2.0  sigma Y=  -1.0\n",
      "г). от 166 см до 182 см:  0.6826894921370859  sigma X =  1.0  sigma Y=  -1.0\n",
      "д). от 158 см до 190 см:  2.0 -1.0 0.8185946141203637  sigma X =  2.0  sigma Y=  -1.0\n",
      "е). не выше 150 см или не ниже 190 см:  0.18140538587963628  sigma X =  2.0  sigma Y=  -1.0\n",
      "ё). не выше 150 см или не ниже 198 см:  0.16000515196308718  sigma X =  3.0  sigma Y=  -1.0\n",
      "ж). ниже 166 см.:  0.15865525393145707  sigma =  -1.0\n"
     ]
    }
   ],
   "source": [
    "from scipy.stats import norm\n",
    "\n",
    "Mx=174\n",
    "sigma=8\n",
    "Dx = sigma**2\n",
    "X = 182\n",
    "value=(X-Mx)/sigma\n",
    "print('а). больше 182 см ',1-norm.cdf(value),\" sigma = \",value)\n",
    "X = 190\n",
    "value=(X-Mx)/sigma\n",
    "print('б). больше 190 см: ',1-norm.cdf(value),\" sigma = \",value)\n",
    "X = 190\n",
    "Y = 166\n",
    "value=(X-Mx)/sigma\n",
    "valueY=(Y-Mx)/sigma\n",
    "print('в). от 166 см до 190 см: ',norm.cdf(value) - norm.cdf(valueY),\" sigma X = \",value, \" sigma Y= \",valueY)\n",
    "X = 182\n",
    "Y = 166\n",
    "value=(X-Mx)/sigma\n",
    "print('г). от 166 см до 182 см: ',norm.cdf(value) - norm.cdf(valueY),\" sigma X = \",value, \" sigma Y= \",valueY)\n",
    "X = 190\n",
    "Y = 158\n",
    "value=(X-Mx)/sigma\n",
    "print('д). от 158 см до 190 см: ',value,valueY, norm.cdf(value) - norm.cdf(valueY),\" sigma X = \",value, \" sigma Y= \",valueY)\n",
    "X = 190\n",
    "Y = 150\n",
    "value=(X-Mx)/sigma\n",
    "print('е). не выше 150 см или не ниже 190 см: ',1-(norm.cdf(value) - norm.cdf(valueY)),\" sigma X = \",value, \" sigma Y= \",valueY)\n",
    "X = 198\n",
    "Y = 150\n",
    "value=(X-Mx)/sigma\n",
    "print('ё). не выше 150 см или не ниже 198 см: ',1-(norm.cdf(value) - norm.cdf(valueY)),\" sigma X = \",value, \" sigma Y= \",valueY)\n",
    "X = 166\n",
    "value=(X-Mx)/sigma\n",
    "print('ж). ниже 166 см.: ',norm.cdf(value),\" sigma = \",value)\n"
   ]
  },
  {
   "cell_type": "markdown",
   "metadata": {},
   "source": [
    "5 На сколько сигм (средних квадратичных отклонений) отклоняется рост человека, равный 190 см, от\n",
    "математического ожидания роста в популяции, в которой M(X) = 178 см и D(X) = 25 кв.см?"
   ]
  },
  {
   "cell_type": "code",
   "execution_count": 7,
   "metadata": {},
   "outputs": [
    {
     "data": {
      "text/plain": [
       "3.2"
      ]
     },
     "execution_count": 7,
     "metadata": {},
     "output_type": "execute_result"
    }
   ],
   "source": [
    "Mx=174\n",
    "Dx = 25\n",
    "sigma=Dx**.5\n",
    "(190-Mx)/sigma"
   ]
  },
  {
   "cell_type": "code",
   "execution_count": null,
   "metadata": {},
   "outputs": [],
   "source": []
  },
  {
   "cell_type": "code",
   "execution_count": null,
   "metadata": {},
   "outputs": [],
   "source": []
  },
  {
   "cell_type": "code",
   "execution_count": null,
   "metadata": {},
   "outputs": [],
   "source": []
  }
 ],
 "metadata": {
  "kernelspec": {
   "display_name": "Python 3",
   "language": "python",
   "name": "python3"
  },
  "language_info": {
   "codemirror_mode": {
    "name": "ipython",
    "version": 3
   },
   "file_extension": ".py",
   "mimetype": "text/x-python",
   "name": "python",
   "nbconvert_exporter": "python",
   "pygments_lexer": "ipython3",
   "version": "3.7.6"
  }
 },
 "nbformat": 4,
 "nbformat_minor": 4
}

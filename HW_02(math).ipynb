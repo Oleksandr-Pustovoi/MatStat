{
 "cells": [
  {
   "cell_type": "code",
   "execution_count": 1,
   "metadata": {},
   "outputs": [],
   "source": [
    "from math import factorial\n",
    "import numpy as np\n",
    "\n",
    "\n",
    "def combinations(n, k):\n",
    "    #     Число сочетаний из  n  элементов по  k  элементов в каждом\n",
    "    #     (в сочетаниях порядок не важен):\n",
    "    return int(factorial(n) / (factorial(k) * factorial(n - k)))"
   ]
  },
  {
   "cell_type": "markdown",
   "metadata": {},
   "source": [
    "### 1\n",
    "Вероятность того, что стрелок попадет в мишень, выстрелив один раз, равна 0.8. Стрелок выстрелил 100 раз. Найдите вероятность того, что стрелок попадет в цель ровно 85 раз."
   ]
  },
  {
   "cell_type": "code",
   "execution_count": 2,
   "metadata": {},
   "outputs": [
    {
     "data": {
      "text/plain": [
       "0.048061793700746355"
      ]
     },
     "execution_count": 2,
     "metadata": {},
     "output_type": "execute_result"
    }
   ],
   "source": [
    "# Это Биномиальное распределение\n",
    "n = 100\n",
    "k = 85\n",
    "p = 0.8\n",
    "q = 1-p\n",
    "C = factorial(n)/(factorial(k)*factorial(n - k))\n",
    "C*(p**k)*(q**(n-k))"
   ]
  },
  {
   "cell_type": "markdown",
   "metadata": {},
   "source": [
    "### 2\n",
    "Вероятность того, что лампочка перегорит в течение первого дня эксплуатации, равна 0.0004. В жилом комплексе после ремонта в один день включили 5000 новых лампочек. Какова вероятность, что ни одна из них не перегорит в первый день? "
   ]
  },
  {
   "cell_type": "code",
   "execution_count": 3,
   "metadata": {},
   "outputs": [
    {
     "data": {
      "text/plain": [
       "0.1353352832366127"
      ]
     },
     "execution_count": 3,
     "metadata": {},
     "output_type": "execute_result"
    }
   ],
   "source": [
    "# Это Распределение Пуассона\n",
    "n = 5000\n",
    "m = 0\n",
    "p = 0.0004\n",
    "lbda = n * p\n",
    "\n",
    "(lbda**m/factorial(m))*np.exp(-lbda)"
   ]
  },
  {
   "cell_type": "markdown",
   "metadata": {},
   "source": [
    "Какова вероятность, что перегорят ровно две?"
   ]
  },
  {
   "cell_type": "code",
   "execution_count": 4,
   "metadata": {},
   "outputs": [
    {
     "data": {
      "text/plain": [
       "0.2706705664732254"
      ]
     },
     "execution_count": 4,
     "metadata": {},
     "output_type": "execute_result"
    }
   ],
   "source": [
    "# Распределение Пуассона\n",
    "n = 5000\n",
    "m = 2\n",
    "p = 0.0004\n",
    "lbda = n * p\n",
    "\n",
    "(lbda**m/factorial(m))*np.exp(-lbda)"
   ]
  },
  {
   "cell_type": "markdown",
   "metadata": {},
   "source": [
    "### 3\n",
    "Монету подбросили 144 раза. Какова вероятность, что орел выпадет ровно 70 раз?"
   ]
  },
  {
   "cell_type": "code",
   "execution_count": 5,
   "metadata": {},
   "outputs": [
    {
     "data": {
      "text/plain": [
       "0.06281178035144776"
      ]
     },
     "execution_count": 5,
     "metadata": {},
     "output_type": "execute_result"
    }
   ],
   "source": [
    "# Биномиальный закон распределения\n",
    "n = 144\n",
    "k = 70\n",
    "p = 0.5\n",
    "q = 1-p\n",
    "C = factorial(n)/(factorial(k)*factorial(n - k))\n",
    "C*(p**k)*(q**(n-k))"
   ]
  },
  {
   "cell_type": "markdown",
   "metadata": {},
   "source": [
    "### 4\n",
    "В первом ящике находится 10 мячей, из которых 7 - белые. Во втором ящике - 11 мячей, из которых 9 белых. Из каждого ящика вытаскивают случайным образом по два мяча. Какова вероятность того, что все мячи белые? "
   ]
  },
  {
   "cell_type": "code",
   "execution_count": 6,
   "metadata": {},
   "outputs": [
    {
     "data": {
      "text/plain": [
       "0.3054545454545454"
      ]
     },
     "execution_count": 6,
     "metadata": {},
     "output_type": "execute_result"
    }
   ],
   "source": [
    "7/10*6/9*9/11*8/10"
   ]
  },
  {
   "cell_type": "code",
   "execution_count": 7,
   "metadata": {},
   "outputs": [
    {
     "data": {
      "text/plain": [
       "0.3054545454545455"
      ]
     },
     "execution_count": 7,
     "metadata": {},
     "output_type": "execute_result"
    }
   ],
   "source": [
    "# положительные исходы\n",
    "OK1 = combinations(7, 2)\n",
    "OK2 = combinations(9, 2)\n",
    "\n",
    "# число вообще всех исходов\n",
    "ALL1 = combinations(10, 2)\n",
    "ALL2 = combinations(11, 2)\n",
    "\n",
    "WHITE4 = OK1/ALL1*OK2/ALL2\n",
    "WHITE4"
   ]
  },
  {
   "cell_type": "markdown",
   "metadata": {},
   "source": [
    "Какова вероятность того, что ровно два мяча белые? "
   ]
  },
  {
   "cell_type": "code",
   "execution_count": 8,
   "metadata": {},
   "outputs": [
    {
     "data": {
      "text/plain": [
       "0.20484848484848486"
      ]
     },
     "execution_count": 8,
     "metadata": {},
     "output_type": "execute_result"
    }
   ],
   "source": [
    "# 2+0\n",
    "P20 = combinations(7, 2)/combinations(10, 2) * \\\n",
    "    combinations(2, 2)/combinations(11, 2)\n",
    "# 0+2\n",
    "P02 = combinations(3, 2)/combinations(10, 2) * \\\n",
    "    combinations(9, 2)/combinations(11, 2)\n",
    "# 1+1\n",
    "P1_ = (combinations(7, 1)*combinations(3, 1))/combinations(10, 2)\n",
    "P_1 = (combinations(9, 1)*combinations(2, 1))/combinations(11, 2)\n",
    "P11 = P1_*P_1\n",
    "\n",
    "WHITE2 = P20+P02+P11\n",
    "WHITE2"
   ]
  },
  {
   "cell_type": "markdown",
   "metadata": {},
   "source": [
    "Какова вероятность того, что хотя бы один мяч белый?"
   ]
  },
  {
   "cell_type": "code",
   "execution_count": 9,
   "metadata": {},
   "outputs": [
    {
     "data": {
      "text/plain": [
       "0.9987878787878788"
      ]
     },
     "execution_count": 9,
     "metadata": {},
     "output_type": "execute_result"
    }
   ],
   "source": [
    "# По формуле полной вероятности это эквивалентно событию 1-вероятность всех черных мячей:\n",
    "P0_ = combinations(3, 2)/combinations(10, 2)\n",
    "P_0 = combinations(2, 2)/combinations(11, 2)\n",
    "P00 = P0_ * P_0\n",
    "1-P00"
   ]
  }
 ],
 "metadata": {
  "kernelspec": {
   "display_name": "Python 3",
   "language": "python",
   "name": "python3"
  },
  "language_info": {
   "codemirror_mode": {
    "name": "ipython",
    "version": 3
   },
   "file_extension": ".py",
   "mimetype": "text/x-python",
   "name": "python",
   "nbconvert_exporter": "python",
   "pygments_lexer": "ipython3",
   "version": "3.7.6"
  }
 },
 "nbformat": 4,
 "nbformat_minor": 4
}

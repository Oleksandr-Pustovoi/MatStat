{
 "cells": [
  {
   "cell_type": "markdown",
   "metadata": {},
   "source": [
    "\n",
    "Урок 8.\n",
    "1. Провести дисперсионный анализ для определения того, есть ли различия среднего роста \n",
    "среди взрослых футболистов, хоккеистов и штангистов.\n",
    "Даны значения роста в трех группах случайно выбранных спортсменов:\n",
    "Футболисты: 173, 175, 180, 178, 177, 185, 183, 182.\n",
    "Хоккеисты: 177, 179, 180, 188, 177, 172, 171, 184, 180.\n",
    "Штангисты: 172, 173, 169, 177, 166, 180, 178, 177, 172, 166, 170.\n",
    "Курсовой до 14.12.2020"
   ]
  },
  {
   "cell_type": "markdown",
   "metadata": {},
   "source": [
    "Нам нужен однофакторный дисперсионный анализ"
   ]
  },
  {
   "cell_type": "code",
   "execution_count": 1,
   "metadata": {},
   "outputs": [],
   "source": [
    "import numpy as np\n",
    "import pandas as pd\n",
    "import matplotlib.pyplot as plt\n",
    "import warnings"
   ]
  },
  {
   "cell_type": "code",
   "execution_count": 2,
   "metadata": {},
   "outputs": [
    {
     "data": {
      "text/plain": [
       "array([173, 175, 180, 178, 177, 185, 183, 182, 177, 179, 180, 188, 177,\n",
       "       172, 171, 184, 180, 172, 173, 169, 177, 166, 180, 178, 177, 172,\n",
       "       166, 170])"
      ]
     },
     "execution_count": 2,
     "metadata": {},
     "output_type": "execute_result"
    }
   ],
   "source": [
    "F = np.array([173, 175, 180, 178, 177, 185, 183, 182])\n",
    "H = np.array([177, 179, 180, 188, 177, 172, 171, 184, 180])\n",
    "S = np.array([172, 173, 169, 177, 166, 180, 178, 177, 172, 166, 170])\n",
    "All = np.concatenate((F,H,S), axis=None)\n",
    "All"
   ]
  },
  {
   "cell_type": "code",
   "execution_count": 3,
   "metadata": {},
   "outputs": [],
   "source": [
    "k=3\n",
    "nF = F.shape[0]\n",
    "nH = H.shape[0]\n",
    "nS = S.shape[0]\n",
    "n = All.shape[0]\n",
    "avF =F.mean()\n",
    "avH =H.mean()\n",
    "avS =S.mean()\n",
    "# среднее значение переменной Y по всем значениям:\n",
    "avAll =All.mean()\n",
    "# сумма квадратов отклонений наблюдений от общего среднего:\n",
    "S2=((F-avAll)**2).sum()+((H-avAll)**2).sum()+((S-avAll)**2).sum()\n",
    "# сумма квадратов отклонений средних групповых значений от общего среднего значения  Y\n",
    "S2All = ((avF-avAll)**2)*nF+((avH-avAll)**2)*nH+((avS-avAll)**2)*nS\n",
    "# остаточная сумма квадратов отклонений:\n",
    "S2oct = ((F-avF)**2).sum()+((H-avH)**2).sum()+((S-avS)**2).sum()"
   ]
  },
  {
   "cell_type": "code",
   "execution_count": 4,
   "metadata": {},
   "outputs": [
    {
     "data": {
      "text/plain": [
       "(830.9642857142858, 830.964285714286)"
      ]
     },
     "execution_count": 4,
     "metadata": {},
     "output_type": "execute_result"
    }
   ],
   "source": [
    "# сумма квадратов отклонений наблюдений от общего среднего дожна быть равна:\n",
    "S2,S2All+S2oct"
   ]
  },
  {
   "cell_type": "code",
   "execution_count": 8,
   "metadata": {},
   "outputs": [
    {
     "name": "stdout",
     "output_type": "stream",
     "text": [
      "F_H = 5.500053450812598,\n",
      "eta = 0.3055576176949799\n"
     ]
    }
   ],
   "source": [
    "# общую дисперсию:\n",
    "s2_comm= S2/(n-1)\n",
    "# факторную дисперсию:\n",
    "s2_all = S2All/(k-1)\n",
    "# остаточную дисперсию:\n",
    "s2_oct = S2oct/(n-k)\n",
    "\n",
    "F_H = s2_all/s2_oct\n",
    "eta = S2All/S2\n",
    "print(f'F_H = {F_H},\\neta = {eta}')"
   ]
  },
  {
   "cell_type": "markdown",
   "metadata": {},
   "source": [
    "Fкрит  в таблице критических точек распределения Фишера-Снедекора для заданного уровня значимости  α=0.05  и двух степеней свободы:\n",
    "K1=k−1=3−1=2  и K2 = =n−k=28−3=25.\n",
    "\n",
    "Fкрит = 3,38"
   ]
  },
  {
   "cell_type": "markdown",
   "metadata": {},
   "source": [
    "Для данных значений  Fкрит=3.38 . Так как  F_H>Fкрит , различие роста в трех группах статистически значимо.\n",
    "\n",
    "Однако Значение  η2  не близко к 1, что не позволяет утверждать, что различие роста в трех группах является статистически значимым."
   ]
  },
  {
   "cell_type": "markdown",
   "metadata": {},
   "source": [
    "Проверка"
   ]
  },
  {
   "cell_type": "code",
   "execution_count": 6,
   "metadata": {},
   "outputs": [
    {
     "name": "stdout",
     "output_type": "stream",
     "text": [
      "stat=5.500, p=0.010\n",
      "Различие статистически значимо\n"
     ]
    }
   ],
   "source": [
    "from scipy.stats import f_oneway\n",
    "stat, p = f_oneway(F, H, S)\n",
    "print('stat=%.3f, p=%.3f' % (stat, p))\n",
    "if p > 0.05:\n",
    "\tprint('Различие статистически не значимо')\n",
    "else:\n",
    "\tprint('Различие статистически значимо')"
   ]
  }
 ],
 "metadata": {
  "kernelspec": {
   "display_name": "Python 3",
   "language": "python",
   "name": "python3"
  },
  "language_info": {
   "codemirror_mode": {
    "name": "ipython",
    "version": 3
   },
   "file_extension": ".py",
   "mimetype": "text/x-python",
   "name": "python",
   "nbconvert_exporter": "python",
   "pygments_lexer": "ipython3",
   "version": "3.7.6"
  }
 },
 "nbformat": 4,
 "nbformat_minor": 4
}

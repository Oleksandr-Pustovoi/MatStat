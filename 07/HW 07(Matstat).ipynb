{
 "cells": [
  {
   "cell_type": "markdown",
   "metadata": {},
   "source": [
    "## Урок 7.\n",
    "### 1\n",
    "Даны значения величины заработной платы заемщиков банка (zp) и значения их поведенческого кредитного скоринга (ks): zp = [35, 45, 190, 200, 40, 70, 54, 150, 120, 110], ks = [401, 574, 874, 919, 459, 739, 653, 902, 746, 832]. "
   ]
  },
  {
   "cell_type": "code",
   "execution_count": 1,
   "metadata": {},
   "outputs": [],
   "source": [
    "import numpy as np\n",
    "from numpy import reshape\n",
    "import pandas as pd\n",
    "from statistics import mean\n",
    "from numpy import std\n",
    "import seaborn as sns\n",
    "X = zp = np.array([35, 45, 190, 200, 40, 70, 54, 150, 120, 110])\n",
    "y = ks = np.array([401, 574, 874, 919, 459, 739, 653, 902, 746, 832])\n",
    "# df = pd.DataFrame(list(zip(zp, ks)),columns =['zp', 'ks']) "
   ]
  },
  {
   "cell_type": "markdown",
   "metadata": {},
   "source": [
    "Используя математические операции, посчитать коэффициенты линейной регрессии, приняв за X заработную плату (то есть, zp - признак), а за y - значения скорингового балла (то есть, ks - целевая переменная).\n"
   ]
  },
  {
   "cell_type": "markdown",
   "metadata": {},
   "source": [
    "Произвести расчет с использованием intercept."
   ]
  },
  {
   "cell_type": "code",
   "execution_count": 2,
   "metadata": {},
   "outputs": [
    {
     "name": "stdout",
     "output_type": "stream",
     "text": [
      "Уравнение регрессии y = 444.2 + 2.621*x\n"
     ]
    }
   ],
   "source": [
    "b = ((X*y).mean()-y.mean()*X.mean())/((X**2).mean()-(X.mean())**2)\n",
    "a = y.mean()-b*X.mean()\n",
    "print(f'Уравнение регрессии y = {round(a,1)} + {round(b,3)}*x')"
   ]
  },
  {
   "cell_type": "markdown",
   "metadata": {},
   "source": [
    "Произвести расчет без intercept. (Матричный метод)"
   ]
  },
  {
   "cell_type": "code",
   "execution_count": 3,
   "metadata": {},
   "outputs": [
    {
     "name": "stdout",
     "output_type": "stream",
     "text": [
      "Уравнение регрессии y = 444.2 + 2.621*x\n"
     ]
    }
   ],
   "source": [
    "Xr = X.reshape((10,1))\n",
    "yr = y.reshape((10,1))\n",
    "Xr = np.hstack([np.ones((10,1)),Xr])\n",
    "Br = np.dot(np.linalg.inv(np.dot(Xr.T,Xr)),Xr.T@yr)\n",
    "Br\n",
    "print(f'Уравнение регрессии y = {round(Br[0][0],1)} + {round(Br[1][0],3)}*x')"
   ]
  },
  {
   "cell_type": "markdown",
   "metadata": {},
   "source": [
    "### 2\n",
    "Посчитать коэффициент линейной регрессии при заработной плате (zp), используя градиентный спуск (без intercept).\n"
   ]
  },
  {
   "cell_type": "code",
   "execution_count": 7,
   "metadata": {},
   "outputs": [
    {
     "name": "stdout",
     "output_type": "stream",
     "text": [
      "Iteration: 955, B1 = 5.889820420132705, mse = 56516.8584157194\n"
     ]
    }
   ],
   "source": [
    "alpha = 1e-6\n",
    "n=X.shape[0]\n",
    "intercept = 0\n",
    "# intercept = a\n",
    "def mse_(B1,y=y,X=X,n=n):\n",
    "    return np.sum((intercept+B1*X-y)**2)/n\n",
    "\n",
    "\n",
    "\n",
    "B1=1000\n",
    "B1_opt = 0\n",
    "i_opt = mse_opt = X.max()**10\n",
    "\n",
    "\n",
    "for i in range(20000):\n",
    "    B1 -=alpha*(2/n)*np.sum((intercept+B1*X-y)*X)\n",
    "    if mse_(B1) < mse_opt:\n",
    "        mse_opt = mse_(B1)\n",
    "        i_opt = i\n",
    "print(f'Iteration: {i_opt}, B1 = {B1}, mse = {mse_(B1)}')"
   ]
  },
  {
   "cell_type": "markdown",
   "metadata": {},
   "source": [
    "### 3\n",
    "\n",
    "В каких случаях для вычисления доверительных интервалов и проверки статистических гипотез используется таблица значений функции Лапласа, а в каких - таблица критических точек распределения Стьюдента?"
   ]
  },
  {
   "cell_type": "markdown",
   "metadata": {},
   "source": [
    "Критерий Стьюдента используется когда нужно оценить значимость отдельных коэффициентов (например коэфффициентов регрессии)\n",
    "Табли\n",
    "\n",
    "Таблица Лапласа испольуется когда нужно оценить вероятность того, что случайная величина примет значение, принадлежащее заданному интервалу. "
   ]
  },
  {
   "cell_type": "markdown",
   "metadata": {},
   "source": [
    "### *4. \n",
    "\n",
    "Произвести вычисления как в пункте 2, но с вычислением intercept. Учесть, что изменение коэффициентов должно производиться на каждом шаге одновременно (то есть изменение одного коэффициента не должно влиять на изменение другого во время одной итерации)."
   ]
  },
  {
   "cell_type": "code",
   "execution_count": null,
   "metadata": {},
   "outputs": [],
   "source": [
    "не получилось"
   ]
  }
 ],
 "metadata": {
  "kernelspec": {
   "display_name": "Python 3",
   "language": "python",
   "name": "python3"
  },
  "language_info": {
   "codemirror_mode": {
    "name": "ipython",
    "version": 3
   },
   "file_extension": ".py",
   "mimetype": "text/x-python",
   "name": "python",
   "nbconvert_exporter": "python",
   "pygments_lexer": "ipython3",
   "version": "3.7.6"
  }
 },
 "nbformat": 4,
 "nbformat_minor": 4
}

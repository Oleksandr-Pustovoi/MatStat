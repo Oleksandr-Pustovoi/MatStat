{
 "cells": [
  {
   "cell_type": "code",
   "execution_count": 2,
   "metadata": {},
   "outputs": [],
   "source": [
    "import numpy as np\n",
    "import pandas as pd\n",
    "import matplotlib.pyplot as plt\n",
    "import warnings\n",
    "\n",
    "from math import factorial\n",
    "def combinations(n, k):\n",
    "    #     Число сочетаний из  n  элементов по  k  элементов в каждом\n",
    "    #     (в сочетаниях порядок не важен):\n",
    "    return int(factorial(n) / (factorial(k) * factorial(n - k)))\n",
    "\n",
    "warnings.filterwarnings('ignore')"
   ]
  },
  {
   "cell_type": "markdown",
   "metadata": {},
   "source": [
    "1 \n",
    "Даны значения зарплат из выборки выпускников: 100, 80, 75, 77, 89, 33, 45, 25, 65, 17, 30, 24, 57, 55, 70, 75, 65, 84, 90, 150. Посчитать (желательно без использования статистических методов наподобие std, var, mean) среднее арифметическое, среднее квадратичное отклонение, смещенную и несмещенную оценки дисперсий для данной выборки."
   ]
  },
  {
   "cell_type": "code",
   "execution_count": 3,
   "metadata": {},
   "outputs": [
    {
     "data": {
      "text/plain": [
       "65.3"
      ]
     },
     "execution_count": 3,
     "metadata": {},
     "output_type": "execute_result"
    }
   ],
   "source": [
    "A = np.array([100, 80, 75, 77, 89, 33, 45, 25, 65, 17,\n",
    "              30, 24, 57, 55, 70, 75, 65, 84, 90, 150])\n",
    "\n",
    "SA = A.sum()/A.shape[0] # среднее арифметическое\n",
    "SA"
   ]
  },
  {
   "cell_type": "code",
   "execution_count": 4,
   "metadata": {},
   "outputs": [
    {
     "data": {
      "text/plain": [
       "30.823854398825596"
      ]
     },
     "execution_count": 4,
     "metadata": {},
     "output_type": "execute_result"
    }
   ],
   "source": [
    "# среднее квадратичное отклонение\n",
    "STD = np.sqrt(((A-SA)**2).sum()/A.shape[0])\n",
    "STD"
   ]
  },
  {
   "cell_type": "code",
   "execution_count": 5,
   "metadata": {},
   "outputs": [
    {
     "data": {
      "text/plain": [
       "950.11"
      ]
     },
     "execution_count": 5,
     "metadata": {},
     "output_type": "execute_result"
    }
   ],
   "source": [
    "# смещенную оценкy дисперсий\n",
    "VAR = STD**2 \n",
    "VAR"
   ]
  },
  {
   "cell_type": "code",
   "execution_count": 6,
   "metadata": {},
   "outputs": [
    {
     "data": {
      "text/plain": [
       "1000.1157894736843"
      ]
     },
     "execution_count": 6,
     "metadata": {},
     "output_type": "execute_result"
    }
   ],
   "source": [
    "# и несмещенную оценки дисперсий\n",
    "VAR_n_sm = np.sqrt(((A-SA)**2).sum()/(A.shape[0]-1))**2\n",
    "VAR_n_sm"
   ]
  },
  {
   "cell_type": "markdown",
   "metadata": {},
   "source": [
    "2 В первом ящике находится 8 мячей, из которых 5 - белые. Во втором ящике - 12 мячей, из которых 5 белых. Из первого ящика вытаскивают случайным образом два мяча, из второго - 4. Какова вероятность того, что 3 мяча белые?"
   ]
  },
  {
   "cell_type": "code",
   "execution_count": 34,
   "metadata": {},
   "outputs": [
    {
     "data": {
      "text/plain": [
       "0.36868686868686873"
      ]
     },
     "execution_count": 34,
     "metadata": {},
     "output_type": "execute_result"
    }
   ],
   "source": [
    "# 0  +  3+0\n",
    "P03 = combinations(3, 2)/combinations(8, 2) * \\\n",
    "    combinations(5, 3)*combinations(7, 1)/combinations(12, 4)\n",
    "# 1  +  2+0\n",
    "P1_ = (combinations(5, 1)*combinations(3, 1))/combinations(8, 2)\n",
    "P_2 = combinations(5, 2)*combinations(7, 2)/combinations(12, 4)\n",
    "P12 = P1_*P_2\n",
    "\n",
    "# 2  +  1+0\n",
    "P2_ = combinations(5, 2)/combinations(8, 2)\n",
    "P_1 = combinations(5, 1)*combinations(7, 3)/combinations(12, 4)\n",
    "P21 = P2_*P_1\n",
    "P03+P12+P21"
   ]
  },
  {
   "cell_type": "markdown",
   "metadata": {},
   "source": [
    "3 На соревновании по биатлону один из трех спортсменов стреляет и попадает в мишень. Вероятность попадания для первого спортсмена равна 0.9, для второго — 0.8, для третьего — 0.6. Найти вероятность того, что выстрел произведен: a). первым спортсменом б). вторым спортсменом в). третьим спортсменом."
   ]
  },
  {
   "cell_type": "code",
   "execution_count": 22,
   "metadata": {},
   "outputs": [],
   "source": [
    "# Если событие А произошло, то условные вероятности (апостериорные)\n",
    "# гипотез вычисляются по формуле Байеса\n",
    "\n",
    "# Вероятность попаданий\n",
    "p_AH1=0.9 \n",
    "p_AH2=0.8\n",
    "p_AH3=0.6\n",
    "\n",
    "# Вероятность выстрела любым спотсменом (независимо от попадания)\n",
    "p_H1=p_H2=p_H3=1/3\n",
    "\n",
    "# Полная вероятность\n",
    "P_A = p_AH1*p_H1+p_AH2*p_H2+p_AH3*p_H3"
   ]
  },
  {
   "cell_type": "code",
   "execution_count": 19,
   "metadata": {},
   "outputs": [
    {
     "data": {
      "text/plain": [
       "0.391304347826087"
      ]
     },
     "execution_count": 19,
     "metadata": {},
     "output_type": "execute_result"
    }
   ],
   "source": [
    "# Вероятность того, что выстрел произведен:\n",
    "# a). первым спортсменом\n",
    "(p_AH1*p_H1)/P_A"
   ]
  },
  {
   "cell_type": "code",
   "execution_count": 20,
   "metadata": {},
   "outputs": [
    {
     "data": {
      "text/plain": [
       "0.3478260869565218"
      ]
     },
     "execution_count": 20,
     "metadata": {},
     "output_type": "execute_result"
    }
   ],
   "source": [
    "# b) вторым спортсменом\n",
    "(p_AH2*p_H2)/P_A"
   ]
  },
  {
   "cell_type": "code",
   "execution_count": 21,
   "metadata": {},
   "outputs": [
    {
     "data": {
      "text/plain": [
       "0.2608695652173913"
      ]
     },
     "execution_count": 21,
     "metadata": {},
     "output_type": "execute_result"
    }
   ],
   "source": [
    "# c) третьим спортсменом.\n",
    "(p_AH3*p_H3)/P_A"
   ]
  },
  {
   "cell_type": "markdown",
   "metadata": {},
   "source": [
    "4 В университет на факультеты A и B поступило равное количество студентов, а на факультет C студентов поступило столько же, сколько на A и B вместе. Вероятность того, что студент факультета A сдаст первую сессию, равна 0.8. Для студента факультета B эта вероятность равна 0.7, а для студента факультета C - 0.9. Студент сдал первую сессию. Какова вероятность, что он учится: a). на факультете A б). на факультете B в). на факультете C?"
   ]
  },
  {
   "cell_type": "code",
   "execution_count": 23,
   "metadata": {},
   "outputs": [],
   "source": [
    "# Если событие А произошло, то условные вероятности (апостериорные)\n",
    "# гипотез вычисляются по формуле Байеса\n",
    "\n",
    "# Вероятность сдачи сессии\n",
    "p_AH1=.8\n",
    "p_AH2=.7\n",
    "p_AH3=.9\n",
    "# Вероятность поступления \n",
    "p_H1=1/4\n",
    "p_H2=1/4\n",
    "p_H3=2/4\n",
    "\n",
    "# Полная вероятность\n",
    "P_A = p_AH1*p_H1+p_AH2*p_H2+p_AH3*p_H3"
   ]
  },
  {
   "cell_type": "code",
   "execution_count": 25,
   "metadata": {},
   "outputs": [
    {
     "data": {
      "text/plain": [
       "0.24242424242424246"
      ]
     },
     "execution_count": 25,
     "metadata": {},
     "output_type": "execute_result"
    }
   ],
   "source": [
    "# a). на факультете A\n",
    "(p_AH1*p_H1)/P_A"
   ]
  },
  {
   "cell_type": "code",
   "execution_count": 26,
   "metadata": {},
   "outputs": [
    {
     "data": {
      "text/plain": [
       "0.21212121212121213"
      ]
     },
     "execution_count": 26,
     "metadata": {},
     "output_type": "execute_result"
    }
   ],
   "source": [
    "# b) на факультете B\n",
    "(p_AH2*p_H2)/P_A"
   ]
  },
  {
   "cell_type": "code",
   "execution_count": 24,
   "metadata": {},
   "outputs": [
    {
     "data": {
      "text/plain": [
       "0.5454545454545455"
      ]
     },
     "execution_count": 24,
     "metadata": {},
     "output_type": "execute_result"
    }
   ],
   "source": [
    "# c) на факультете C\n",
    "(p_AH3*p_H3)/P_A"
   ]
  },
  {
   "cell_type": "markdown",
   "metadata": {},
   "source": [
    "5 Устройство состоит из трех деталей. Для первой детали вероятность выйти из строя в первый месяц равна 0.1, для второй - 0.2, для третьей - 0.25. Какова вероятность того, что в первый месяц выйдут из строя: а). все детали b). только две детали c). хотя бы одна деталь d). от одной до двух деталей?"
   ]
  },
  {
   "cell_type": "code",
   "execution_count": 11,
   "metadata": {},
   "outputs": [
    {
     "data": {
      "text/plain": [
       "0.005000000000000001"
      ]
     },
     "execution_count": 11,
     "metadata": {},
     "output_type": "execute_result"
    }
   ],
   "source": [
    "# а). все детали\n",
    "a = 0.1*0.2*0.25\n",
    "a"
   ]
  },
  {
   "cell_type": "code",
   "execution_count": 12,
   "metadata": {},
   "outputs": [
    {
     "data": {
      "text/plain": [
       "0.08000000000000002"
      ]
     },
     "execution_count": 12,
     "metadata": {},
     "output_type": "execute_result"
    }
   ],
   "source": [
    "# b). только две детали\n",
    "b = 0.1*0.2*(1-0.25) + (1-0.1)*0.2*0.25 + 0.1*(1-0.2)*0.25\n",
    "b"
   ]
  },
  {
   "cell_type": "code",
   "execution_count": 14,
   "metadata": {},
   "outputs": [
    {
     "data": {
      "text/plain": [
       "0.4600000000000001"
      ]
     },
     "execution_count": 14,
     "metadata": {},
     "output_type": "execute_result"
    }
   ],
   "source": [
    "# c). хотя бы одна деталь \n",
    "c = 0.1*(1-0.2)*(1-0.25) + (1-0.1)*(1-0.2)*0.25 + (1-0.1)*0.2*(1-0.25)\n",
    "c + a + b"
   ]
  },
  {
   "cell_type": "code",
   "execution_count": 44,
   "metadata": {},
   "outputs": [
    {
     "data": {
      "text/plain": [
       "0.45500000000000007"
      ]
     },
     "execution_count": 44,
     "metadata": {},
     "output_type": "execute_result"
    }
   ],
   "source": [
    "# d). от одной до двух деталей?\n",
    "d = b+c\n",
    "d"
   ]
  },
  {
   "cell_type": "code",
   "execution_count": 18,
   "metadata": {},
   "outputs": [
    {
     "data": {
      "text/plain": [
       "0.9893"
      ]
     },
     "execution_count": 18,
     "metadata": {},
     "output_type": "execute_result"
    }
   ],
   "source": [
    "1-0.0107"
   ]
  }
 ],
 "metadata": {
  "kernelspec": {
   "display_name": "Python 3",
   "language": "python",
   "name": "python3"
  },
  "language_info": {
   "codemirror_mode": {
    "name": "ipython",
    "version": 3
   },
   "file_extension": ".py",
   "mimetype": "text/x-python",
   "name": "python",
   "nbconvert_exporter": "python",
   "pygments_lexer": "ipython3",
   "version": "3.7.6"
  }
 },
 "nbformat": 4,
 "nbformat_minor": 4
}
